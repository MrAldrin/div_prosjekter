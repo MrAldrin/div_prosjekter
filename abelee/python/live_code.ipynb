{
 "cells": [
  {
   "cell_type": "code",
   "execution_count": 45,
   "metadata": {},
   "outputs": [],
   "source": [
    "import pandas as pd\n",
    "import numpy as np"
   ]
  },
  {
   "cell_type": "code",
   "execution_count": 6,
   "metadata": {},
   "outputs": [],
   "source": [
    "pri = pd.read_csv(\"../abelee_data/prices_primary.csv\", delimiter=\" \")\n",
    "sec = pd.read_csv(\"../abelee_data/prices_secondary.csv\", delimiter=\" \")"
   ]
  },
  {
   "cell_type": "code",
   "execution_count": 15,
   "metadata": {},
   "outputs": [
    {
     "data": {
      "text/plain": [
       "timestamp                int64\n",
       "datetime        datetime64[ns]\n",
       "bid_price              float64\n",
       "bid_amount             float64\n",
       "offer_price            float64\n",
       "offer_amount           float64\n",
       "dtype: object"
      ]
     },
     "execution_count": 15,
     "metadata": {},
     "output_type": "execute_result"
    }
   ],
   "source": [
    "sec.dtypes"
   ]
  },
  {
   "cell_type": "code",
   "execution_count": 16,
   "metadata": {},
   "outputs": [],
   "source": [
    "sec[\"datetime\"] = pd.to_datetime(sec[\"datetime\"])\n",
    "pri[\"datetime\"] = pd.to_datetime(pri[\"datetime\"])"
   ]
  },
  {
   "cell_type": "code",
   "execution_count": null,
   "metadata": {},
   "outputs": [],
   "source": [
    "sec.set_index(\"datetime\", inplace=True)\n",
    "pri.set_index(\"datetime\", inplace=True)"
   ]
  },
  {
   "cell_type": "code",
   "execution_count": 25,
   "metadata": {},
   "outputs": [
    {
     "data": {
      "text/html": [
       "<div>\n",
       "<style scoped>\n",
       "    .dataframe tbody tr th:only-of-type {\n",
       "        vertical-align: middle;\n",
       "    }\n",
       "\n",
       "    .dataframe tbody tr th {\n",
       "        vertical-align: top;\n",
       "    }\n",
       "\n",
       "    .dataframe thead th {\n",
       "        text-align: right;\n",
       "    }\n",
       "</style>\n",
       "<table border=\"1\" class=\"dataframe\">\n",
       "  <thead>\n",
       "    <tr style=\"text-align: right;\">\n",
       "      <th></th>\n",
       "      <th>timestamp</th>\n",
       "      <th>bid_price</th>\n",
       "      <th>bid_amount</th>\n",
       "      <th>offer_price</th>\n",
       "      <th>offer_amount</th>\n",
       "    </tr>\n",
       "    <tr>\n",
       "      <th>datetime</th>\n",
       "      <th></th>\n",
       "      <th></th>\n",
       "      <th></th>\n",
       "      <th></th>\n",
       "      <th></th>\n",
       "    </tr>\n",
       "  </thead>\n",
       "  <tbody>\n",
       "    <tr>\n",
       "      <th>2021-07-30 00:00:00.000101406</th>\n",
       "      <td>1627603200000101406</td>\n",
       "      <td>1.18902</td>\n",
       "      <td>1500000.0</td>\n",
       "      <td>1.18905</td>\n",
       "      <td>1000000.0</td>\n",
       "    </tr>\n",
       "    <tr>\n",
       "      <th>2021-07-30 00:00:00.089534545</th>\n",
       "      <td>1627603200089534545</td>\n",
       "      <td>1.18902</td>\n",
       "      <td>1500000.0</td>\n",
       "      <td>1.18905</td>\n",
       "      <td>1500000.0</td>\n",
       "    </tr>\n",
       "    <tr>\n",
       "      <th>2021-07-30 00:00:00.090456940</th>\n",
       "      <td>1627603200090456940</td>\n",
       "      <td>1.18902</td>\n",
       "      <td>1000000.0</td>\n",
       "      <td>1.18905</td>\n",
       "      <td>1500000.0</td>\n",
       "    </tr>\n",
       "    <tr>\n",
       "      <th>2021-07-30 00:00:00.099915720</th>\n",
       "      <td>1627603200099915720</td>\n",
       "      <td>1.18901</td>\n",
       "      <td>1500000.0</td>\n",
       "      <td>1.18905</td>\n",
       "      <td>1500000.0</td>\n",
       "    </tr>\n",
       "    <tr>\n",
       "      <th>2021-07-30 00:00:00.099916479</th>\n",
       "      <td>1627603200099916479</td>\n",
       "      <td>1.18901</td>\n",
       "      <td>1500000.0</td>\n",
       "      <td>1.18904</td>\n",
       "      <td>1000000.0</td>\n",
       "    </tr>\n",
       "  </tbody>\n",
       "</table>\n",
       "</div>"
      ],
      "text/plain": [
       "                                         timestamp  bid_price  bid_amount  \\\n",
       "datetime                                                                    \n",
       "2021-07-30 00:00:00.000101406  1627603200000101406    1.18902   1500000.0   \n",
       "2021-07-30 00:00:00.089534545  1627603200089534545    1.18902   1500000.0   \n",
       "2021-07-30 00:00:00.090456940  1627603200090456940    1.18902   1000000.0   \n",
       "2021-07-30 00:00:00.099915720  1627603200099915720    1.18901   1500000.0   \n",
       "2021-07-30 00:00:00.099916479  1627603200099916479    1.18901   1500000.0   \n",
       "\n",
       "                               offer_price  offer_amount  \n",
       "datetime                                                  \n",
       "2021-07-30 00:00:00.000101406      1.18905     1000000.0  \n",
       "2021-07-30 00:00:00.089534545      1.18905     1500000.0  \n",
       "2021-07-30 00:00:00.090456940      1.18905     1500000.0  \n",
       "2021-07-30 00:00:00.099915720      1.18905     1500000.0  \n",
       "2021-07-30 00:00:00.099916479      1.18904     1000000.0  "
      ]
     },
     "execution_count": 25,
     "metadata": {},
     "output_type": "execute_result"
    }
   ],
   "source": [
    "sec.head()"
   ]
  },
  {
   "cell_type": "code",
   "execution_count": 31,
   "metadata": {},
   "outputs": [],
   "source": [
    "mid_pri = (pri[\"bid_price\"]+pri[\"offer_price\"])/2\n",
    "mid_sec = (sec[\"bid_price\"]+sec[\"offer_price\"])/2"
   ]
  },
  {
   "cell_type": "code",
   "execution_count": 35,
   "metadata": {},
   "outputs": [
    {
     "data": {
      "text/plain": [
       "datetime\n",
       "2021-07-30 00:00:00.015116310    1.189025\n",
       "2021-07-30 00:00:00.095110468    1.189025\n",
       "2021-07-30 00:00:00.225114905    1.189050\n",
       "2021-07-30 00:00:00.230111953    1.189050\n",
       "2021-07-30 00:00:00.295118845    1.189025\n",
       "                                   ...   \n",
       "2021-07-30 20:59:40.914978098    1.186775\n",
       "2021-07-30 20:59:40.924992001    1.186800\n",
       "2021-07-30 20:59:40.934971541    1.186775\n",
       "2021-07-30 20:59:56.084994115    1.187225\n",
       "2021-07-30 20:59:56.094987391    1.187200\n",
       "Length: 99207, dtype: float64"
      ]
     },
     "execution_count": 35,
     "metadata": {},
     "output_type": "execute_result"
    }
   ],
   "source": [
    "mid_pri"
   ]
  },
  {
   "cell_type": "code",
   "execution_count": 39,
   "metadata": {},
   "outputs": [],
   "source": [
    "mid_pri_hours = mid_pri.resample(rule = pd.Timedelta(value = 1, unit=\"hours\")).mean()\n",
    "mid_sec_hours = mid_sec.resample(rule = pd.Timedelta(value = 1, unit=\"hours\")).mean()"
   ]
  },
  {
   "cell_type": "code",
   "execution_count": 41,
   "metadata": {},
   "outputs": [
    {
     "data": {
      "text/plain": [
       "0.9996372837084017"
      ]
     },
     "execution_count": 41,
     "metadata": {},
     "output_type": "execute_result"
    }
   ],
   "source": [
    "mid_pri_hours.corr(mid_sec_hours)"
   ]
  },
  {
   "cell_type": "code",
   "execution_count": 42,
   "metadata": {},
   "outputs": [
    {
     "data": {
      "text/plain": [
       "datetime\n",
       "2021-07-30 00:00:00    1.188588\n",
       "2021-07-30 01:00:00    1.188168\n",
       "2021-07-30 02:00:00    1.188189\n",
       "2021-07-30 03:00:00    1.188036\n",
       "2021-07-30 04:00:00    1.187888\n",
       "2021-07-30 05:00:00    1.187751\n",
       "2021-07-30 06:00:00    1.188060\n",
       "2021-07-30 07:00:00    1.189094\n",
       "2021-07-30 08:00:00    1.189905\n",
       "2021-07-30 09:00:00    1.190281\n",
       "2021-07-30 10:00:00    1.189479\n",
       "2021-07-30 11:00:00    1.189541\n",
       "2021-07-30 12:00:00    1.188625\n",
       "2021-07-30 13:00:00    1.188008\n",
       "2021-07-30 14:00:00    1.186666\n",
       "2021-07-30 15:00:00    1.186041\n",
       "2021-07-30 16:00:00    1.186095\n",
       "2021-07-30 17:00:00    1.185986\n",
       "2021-07-30 18:00:00    1.185765\n",
       "2021-07-30 19:00:00    1.185968\n",
       "2021-07-30 20:00:00    1.186596\n",
       "Freq: H, dtype: float64"
      ]
     },
     "execution_count": 42,
     "metadata": {},
     "output_type": "execute_result"
    }
   ],
   "source": [
    "mid_pri_hours"
   ]
  },
  {
   "cell_type": "code",
   "execution_count": 54,
   "metadata": {},
   "outputs": [],
   "source": [
    "mid_pri_hours_diff = np.log(mid_pri_hours).diff()[1:]\n",
    "mid_sec_hours_diff = np.log(mid_sec_hours).diff()[1:]"
   ]
  },
  {
   "cell_type": "code",
   "execution_count": 55,
   "metadata": {},
   "outputs": [
    {
     "data": {
      "text/plain": [
       "datetime\n",
       "2021-07-30 01:00:00   -0.000354\n",
       "2021-07-30 02:00:00    0.000018\n",
       "2021-07-30 03:00:00   -0.000129\n",
       "2021-07-30 04:00:00   -0.000124\n",
       "2021-07-30 05:00:00   -0.000116\n",
       "Freq: H, dtype: float64"
      ]
     },
     "execution_count": 55,
     "metadata": {},
     "output_type": "execute_result"
    }
   ],
   "source": [
    "mid_pri_hours_diff.head()"
   ]
  },
  {
   "cell_type": "code",
   "execution_count": 56,
   "metadata": {},
   "outputs": [
    {
     "data": {
      "text/plain": [
       "0.9953375473912728"
      ]
     },
     "execution_count": 56,
     "metadata": {},
     "output_type": "execute_result"
    }
   ],
   "source": [
    "mid_pri_hours_diff.corr(mid_sec_hours_diff)"
   ]
  },
  {
   "cell_type": "code",
   "execution_count": 65,
   "metadata": {},
   "outputs": [],
   "source": [
    "def corr(t_1, t_2, t_delta_val, t_delta_unit):\n",
    "    t_1_re = t_1.resample(rule = pd.Timedelta(value = t_delta_val, unit=t_delta_unit)).last()\n",
    "    t_2_re = t_2.resample(rule = pd.Timedelta(value = t_delta_val, unit=t_delta_unit)).last()\n",
    "    t_1_re = np.log(t_1_re).diff()[1:]\n",
    "    t_2_re = np.log(t_2_re).diff()[1:]\n",
    "    return(t_1_re.corr(t_2_re))"
   ]
  },
  {
   "cell_type": "code",
   "execution_count": 67,
   "metadata": {},
   "outputs": [
    {
     "data": {
      "text/plain": [
       "0.9895063849615194"
      ]
     },
     "execution_count": 67,
     "metadata": {},
     "output_type": "execute_result"
    }
   ],
   "source": [
    "corr(t_1 = mid_pri, t_2 = mid_sec, t_delta_val = 1, t_delta_unit=\"hours\")"
   ]
  }
 ],
 "metadata": {
  "kernelspec": {
   "display_name": "Python 3",
   "language": "python",
   "name": "python3"
  },
  "language_info": {
   "codemirror_mode": {
    "name": "ipython",
    "version": 3
   },
   "file_extension": ".py",
   "mimetype": "text/x-python",
   "name": "python",
   "nbconvert_exporter": "python",
   "pygments_lexer": "ipython3",
   "version": "3.8.10"
  }
 },
 "nbformat": 4,
 "nbformat_minor": 2
}
