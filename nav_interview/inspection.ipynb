{
 "cells": [
  {
   "cell_type": "code",
   "execution_count": 6,
   "metadata": {},
   "outputs": [],
   "source": [
    "import pandas as pd\n",
    "import matplotlib.pyplot as plt"
   ]
  },
  {
   "cell_type": "code",
   "execution_count": 2,
   "metadata": {},
   "outputs": [],
   "source": [
    "df = pd.read_csv(\"stonad_mottakere_kommune_2010_2022.csv\")"
   ]
  },
  {
   "cell_type": "code",
   "execution_count": 20,
   "metadata": {},
   "outputs": [
    {
     "data": {
      "text/html": [
       "<div>\n",
       "<style scoped>\n",
       "    .dataframe tbody tr th:only-of-type {\n",
       "        vertical-align: middle;\n",
       "    }\n",
       "\n",
       "    .dataframe tbody tr th {\n",
       "        vertical-align: top;\n",
       "    }\n",
       "\n",
       "    .dataframe thead th {\n",
       "        text-align: right;\n",
       "    }\n",
       "</style>\n",
       "<table border=\"1\" class=\"dataframe\">\n",
       "  <thead>\n",
       "    <tr style=\"text-align: right;\">\n",
       "      <th></th>\n",
       "      <th>aar</th>\n",
       "      <th>kommune_nr</th>\n",
       "      <th>kommune_navn</th>\n",
       "      <th>kjonn_kode</th>\n",
       "      <th>stonad</th>\n",
       "      <th>mottaker_antall</th>\n",
       "    </tr>\n",
       "  </thead>\n",
       "  <tbody>\n",
       "    <tr>\n",
       "      <th>0</th>\n",
       "      <td>2022</td>\n",
       "      <td>1101</td>\n",
       "      <td>Eigersund</td>\n",
       "      <td>K</td>\n",
       "      <td>Dagpenger</td>\n",
       "      <td>103.0</td>\n",
       "    </tr>\n",
       "    <tr>\n",
       "      <th>1</th>\n",
       "      <td>2022</td>\n",
       "      <td>1101</td>\n",
       "      <td>Eigersund</td>\n",
       "      <td>K</td>\n",
       "      <td>Arbeidsavklaringspenger</td>\n",
       "      <td>222.0</td>\n",
       "    </tr>\n",
       "    <tr>\n",
       "      <th>2</th>\n",
       "      <td>2022</td>\n",
       "      <td>1106</td>\n",
       "      <td>Haugesund</td>\n",
       "      <td>K</td>\n",
       "      <td>Dagpenger</td>\n",
       "      <td>133.0</td>\n",
       "    </tr>\n",
       "    <tr>\n",
       "      <th>3</th>\n",
       "      <td>2022</td>\n",
       "      <td>1106</td>\n",
       "      <td>Haugesund</td>\n",
       "      <td>K</td>\n",
       "      <td>Arbeidsavklaringspenger</td>\n",
       "      <td>618.0</td>\n",
       "    </tr>\n",
       "    <tr>\n",
       "      <th>4</th>\n",
       "      <td>2022</td>\n",
       "      <td>1108</td>\n",
       "      <td>Sandnes</td>\n",
       "      <td>K</td>\n",
       "      <td>Dagpenger</td>\n",
       "      <td>423.0</td>\n",
       "    </tr>\n",
       "    <tr>\n",
       "      <th>...</th>\n",
       "      <td>...</td>\n",
       "      <td>...</td>\n",
       "      <td>...</td>\n",
       "      <td>...</td>\n",
       "      <td>...</td>\n",
       "      <td>...</td>\n",
       "    </tr>\n",
       "    <tr>\n",
       "      <th>20027</th>\n",
       "      <td>2021</td>\n",
       "      <td>5443</td>\n",
       "      <td>Båtsfjord</td>\n",
       "      <td>M</td>\n",
       "      <td>Arbeidsavklaringspenger</td>\n",
       "      <td>24.0</td>\n",
       "    </tr>\n",
       "    <tr>\n",
       "      <th>20028</th>\n",
       "      <td>2020</td>\n",
       "      <td>5444</td>\n",
       "      <td>Sør-Varanger</td>\n",
       "      <td>M</td>\n",
       "      <td>Arbeidsavklaringspenger</td>\n",
       "      <td>110.0</td>\n",
       "    </tr>\n",
       "    <tr>\n",
       "      <th>20029</th>\n",
       "      <td>2021</td>\n",
       "      <td>5444</td>\n",
       "      <td>Sør-Varanger</td>\n",
       "      <td>M</td>\n",
       "      <td>Arbeidsavklaringspenger</td>\n",
       "      <td>116.0</td>\n",
       "    </tr>\n",
       "    <tr>\n",
       "      <th>20030</th>\n",
       "      <td>2020</td>\n",
       "      <td>5444</td>\n",
       "      <td>Sør-Varanger</td>\n",
       "      <td>K</td>\n",
       "      <td>Arbeidsavklaringspenger</td>\n",
       "      <td>155.0</td>\n",
       "    </tr>\n",
       "    <tr>\n",
       "      <th>20031</th>\n",
       "      <td>2021</td>\n",
       "      <td>5444</td>\n",
       "      <td>Sør-Varanger</td>\n",
       "      <td>K</td>\n",
       "      <td>Arbeidsavklaringspenger</td>\n",
       "      <td>148.0</td>\n",
       "    </tr>\n",
       "  </tbody>\n",
       "</table>\n",
       "<p>20032 rows × 6 columns</p>\n",
       "</div>"
      ],
      "text/plain": [
       "        aar  kommune_nr  kommune_navn kjonn_kode                   stonad  \\\n",
       "0      2022        1101     Eigersund          K                Dagpenger   \n",
       "1      2022        1101     Eigersund          K  Arbeidsavklaringspenger   \n",
       "2      2022        1106     Haugesund          K                Dagpenger   \n",
       "3      2022        1106     Haugesund          K  Arbeidsavklaringspenger   \n",
       "4      2022        1108       Sandnes          K                Dagpenger   \n",
       "...     ...         ...           ...        ...                      ...   \n",
       "20027  2021        5443     Båtsfjord          M  Arbeidsavklaringspenger   \n",
       "20028  2020        5444  Sør-Varanger          M  Arbeidsavklaringspenger   \n",
       "20029  2021        5444  Sør-Varanger          M  Arbeidsavklaringspenger   \n",
       "20030  2020        5444  Sør-Varanger          K  Arbeidsavklaringspenger   \n",
       "20031  2021        5444  Sør-Varanger          K  Arbeidsavklaringspenger   \n",
       "\n",
       "       mottaker_antall  \n",
       "0                103.0  \n",
       "1                222.0  \n",
       "2                133.0  \n",
       "3                618.0  \n",
       "4                423.0  \n",
       "...                ...  \n",
       "20027             24.0  \n",
       "20028            110.0  \n",
       "20029            116.0  \n",
       "20030            155.0  \n",
       "20031            148.0  \n",
       "\n",
       "[20032 rows x 6 columns]"
      ]
     },
     "execution_count": 20,
     "metadata": {},
     "output_type": "execute_result"
    }
   ],
   "source": [
    "df"
   ]
  },
  {
   "cell_type": "code",
   "execution_count": 21,
   "metadata": {},
   "outputs": [
    {
     "name": "stdout",
     "output_type": "stream",
     "text": [
      "Maximum values for numerical columns:\n",
      "aar                2022.0\n",
      "kommune_nr         5444.0\n",
      "mottaker_antall    2277.0\n",
      "dtype: float64\n",
      "\n",
      "Minimum values for numerical columns:\n",
      "aar                2010.0\n",
      "kommune_nr          101.0\n",
      "mottaker_antall       5.0\n",
      "dtype: float64\n",
      "\n",
      "Mean values for numerical columns:\n",
      "aar                2015.754543\n",
      "kommune_nr         1699.657997\n",
      "mottaker_antall     108.596615\n",
      "dtype: float64\n"
     ]
    }
   ],
   "source": [
    "numerical_columns = df.select_dtypes(include=[float, int])\n",
    "max_values = numerical_columns.max()\n",
    "min_values = numerical_columns.min()\n",
    "mean_values = numerical_columns.mean()\n",
    "\n",
    "print(\"Maximum values for numerical columns:\")\n",
    "print(max_values)\n",
    "\n",
    "print(\"\\nMinimum values for numerical columns:\")\n",
    "print(min_values)\n",
    "\n",
    "print(\"\\nMean values for numerical columns:\")\n",
    "print(mean_values)"
   ]
  },
  {
   "cell_type": "code",
   "execution_count": 24,
   "metadata": {},
   "outputs": [
    {
     "name": "stdout",
     "output_type": "stream",
     "text": [
      "\n",
      "Number of unique values for non-numerical columns:\n",
      "kommune_navn    450\n",
      "kjonn_kode        4\n",
      "stonad            2\n",
      "dtype: int64\n"
     ]
    }
   ],
   "source": [
    "non_numerical_columns = df.select_dtypes(exclude=[float, int])\n",
    "unique_values_counts = non_numerical_columns.nunique()\n",
    "\n",
    "print(\"\\nNumber of unique values for non-numerical columns:\")\n",
    "print(unique_values_counts)"
   ]
  },
  {
   "cell_type": "code",
   "execution_count": 25,
   "metadata": {},
   "outputs": [
    {
     "data": {
      "text/plain": [
       "array(['K', 'Kvinne', 'M', 'Mann'], dtype=object)"
      ]
     },
     "execution_count": 25,
     "metadata": {},
     "output_type": "execute_result"
    }
   ],
   "source": [
    "df['kjonn_kode'].unique()"
   ]
  },
  {
   "cell_type": "code",
   "execution_count": 23,
   "metadata": {},
   "outputs": [
    {
     "data": {
      "image/png": "[encoded data removed]",
      "text/plain": [
       "<Figure size 720x432 with 1 Axes>"
      ]
     },
     "metadata": {
      "needs_background": "light"
     },
     "output_type": "display_data"
    }
   ],
   "source": [
    "plt.figure(figsize=(10, 6))\n",
    "plt.scatter(df['stonad'], df['mottaker_antall'], alpha=0.5)\n",
    "\n",
    "# Label the axes and set the plot title\n",
    "plt.xlabel('Stonad')\n",
    "plt.ylabel('Mottaker Antall')\n",
    "plt.title('Stonad vs Mottaker Antall')\n",
    "\n",
    "# Show the plot\n",
    "plt.show()"
   ]
  },
  {
   "cell_type": "code",
   "execution_count": 17,
   "metadata": {},
   "outputs": [],
   "source": [
    "pivot_df = df.pivot_table(index=\"aar\", columns=\"stonad\", values=\"mottaker_antall\", aggfunc=\"sum\")\n",
    "\n",
    "# Reset the index to have \"aar\" as a regular column\n",
    "pivot_df.reset_index(inplace=True)\n",
    "pivot_df[\"Total Stonad\"] = pivot_df.iloc[:, 1:].sum(axis=1)"
   ]
  },
  {
   "cell_type": "code",
   "execution_count": 18,
   "metadata": {},
   "outputs": [
    {
     "data": {
      "text/plain": [
       "<AxesSubplot:xlabel='aar'>"
      ]
     },
     "execution_count": 18,
     "metadata": {},
     "output_type": "execute_result"
    },
    {
     "data": {
      "image/png": "[encoded data removed]",
      "text/plain": [
       "<Figure size 720x432 with 1 Axes>"
      ]
     },
     "metadata": {
      "needs_background": "light"
     },
     "output_type": "display_data"
    }
   ],
   "source": [
    "pivot_df.set_index(\"aar\", inplace=True)\n",
    "pivot_df.plot(kind=\"line\", marker=\"o\", figsize=(10, 6))"
   ]
  },
  {
   "cell_type": "code",
   "execution_count": 19,
   "metadata": {},
   "outputs": [
    {
     "data": {
      "text/html": [
       "<div>\n",
       "<style scoped>\n",
       "    .dataframe tbody tr th:only-of-type {\n",
       "        vertical-align: middle;\n",
       "    }\n",
       "\n",
       "    .dataframe tbody tr th {\n",
       "        vertical-align: top;\n",
       "    }\n",
       "\n",
       "    .dataframe thead th {\n",
       "        text-align: right;\n",
       "    }\n",
       "</style>\n",
       "<table border=\"1\" class=\"dataframe\">\n",
       "  <thead>\n",
       "    <tr style=\"text-align: right;\">\n",
       "      <th>stonad</th>\n",
       "      <th>Arbeidsavklaringspenger</th>\n",
       "      <th>Dagpenger</th>\n",
       "      <th>Total Stonad</th>\n",
       "    </tr>\n",
       "    <tr>\n",
       "      <th>aar</th>\n",
       "      <th></th>\n",
       "      <th></th>\n",
       "      <th></th>\n",
       "    </tr>\n",
       "  </thead>\n",
       "  <tbody>\n",
       "    <tr>\n",
       "      <th>2010</th>\n",
       "      <td>130681.0</td>\n",
       "      <td>59081.0</td>\n",
       "      <td>189762.0</td>\n",
       "    </tr>\n",
       "    <tr>\n",
       "      <th>2011</th>\n",
       "      <td>136933.0</td>\n",
       "      <td>50209.0</td>\n",
       "      <td>187142.0</td>\n",
       "    </tr>\n",
       "    <tr>\n",
       "      <th>2012</th>\n",
       "      <td>130662.0</td>\n",
       "      <td>45003.0</td>\n",
       "      <td>175665.0</td>\n",
       "    </tr>\n",
       "    <tr>\n",
       "      <th>2013</th>\n",
       "      <td>129437.0</td>\n",
       "      <td>44496.0</td>\n",
       "      <td>173933.0</td>\n",
       "    </tr>\n",
       "    <tr>\n",
       "      <th>2014</th>\n",
       "      <td>123740.0</td>\n",
       "      <td>45418.0</td>\n",
       "      <td>169158.0</td>\n",
       "    </tr>\n",
       "    <tr>\n",
       "      <th>2015</th>\n",
       "      <td>117027.0</td>\n",
       "      <td>50322.0</td>\n",
       "      <td>167349.0</td>\n",
       "    </tr>\n",
       "    <tr>\n",
       "      <th>2016</th>\n",
       "      <td>114156.0</td>\n",
       "      <td>58964.0</td>\n",
       "      <td>173120.0</td>\n",
       "    </tr>\n",
       "    <tr>\n",
       "      <th>2017</th>\n",
       "      <td>111632.0</td>\n",
       "      <td>53679.0</td>\n",
       "      <td>165311.0</td>\n",
       "    </tr>\n",
       "    <tr>\n",
       "      <th>2018</th>\n",
       "      <td>104672.0</td>\n",
       "      <td>43461.0</td>\n",
       "      <td>148133.0</td>\n",
       "    </tr>\n",
       "    <tr>\n",
       "      <th>2019</th>\n",
       "      <td>91661.0</td>\n",
       "      <td>34267.0</td>\n",
       "      <td>125928.0</td>\n",
       "    </tr>\n",
       "    <tr>\n",
       "      <th>2020</th>\n",
       "      <td>91008.0</td>\n",
       "      <td>67958.0</td>\n",
       "      <td>158966.0</td>\n",
       "    </tr>\n",
       "    <tr>\n",
       "      <th>2021</th>\n",
       "      <td>100212.0</td>\n",
       "      <td>95322.0</td>\n",
       "      <td>195534.0</td>\n",
       "    </tr>\n",
       "    <tr>\n",
       "      <th>2022</th>\n",
       "      <td>104836.0</td>\n",
       "      <td>40136.0</td>\n",
       "      <td>144972.0</td>\n",
       "    </tr>\n",
       "  </tbody>\n",
       "</table>\n",
       "</div>"
      ],
      "text/plain": [
       "stonad  Arbeidsavklaringspenger  Dagpenger  Total Stonad\n",
       "aar                                                     \n",
       "2010                   130681.0    59081.0      189762.0\n",
       "2011                   136933.0    50209.0      187142.0\n",
       "2012                   130662.0    45003.0      175665.0\n",
       "2013                   129437.0    44496.0      173933.0\n",
       "2014                   123740.0    45418.0      169158.0\n",
       "2015                   117027.0    50322.0      167349.0\n",
       "2016                   114156.0    58964.0      173120.0\n",
       "2017                   111632.0    53679.0      165311.0\n",
       "2018                   104672.0    43461.0      148133.0\n",
       "2019                    91661.0    34267.0      125928.0\n",
       "2020                    91008.0    67958.0      158966.0\n",
       "2021                   100212.0    95322.0      195534.0\n",
       "2022                   104836.0    40136.0      144972.0"
      ]
     },
     "execution_count": 19,
     "metadata": {},
     "output_type": "execute_result"
    }
   ],
   "source": [
    "pivot_df"
   ]
  }
 ],
 "metadata": {
  "kernelspec": {
   "display_name": "Python 3",
   "language": "python",
   "name": "python3"
  },
  "language_info": {
   "codemirror_mode": {
    "name": "ipython",
    "version": 3
   },
   "file_extension": ".py",
   "mimetype": "text/x-python",
   "name": "python",
   "nbconvert_exporter": "python",
   "pygments_lexer": "ipython3",
   "version": "3.8.10"
  },
  "orig_nbformat": 4
 },
 "nbformat": 4,
 "nbformat_minor": 2
}
