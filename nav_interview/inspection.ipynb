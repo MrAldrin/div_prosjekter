{
 "cells": [
  {
   "cell_type": "code",
   "execution_count": 2,
   "metadata": {},
   "outputs": [],
   "source": [
    "import numpy as np\n",
    "import pandas as pd\n",
    "import matplotlib.pyplot as plt\n",
    "import seaborn as sns\n",
    "import statsmodels.api as sm\n",
    "from sklearn.model_selection import train_test_split\n",
    "from sklearn.linear_model import LinearRegression\n",
    "from sklearn.preprocessing import PolynomialFeatures\n",
    "from sklearn.metrics import r2_score"
   ]
  },
  {
   "cell_type": "code",
   "execution_count": 3,
   "metadata": {},
   "outputs": [],
   "source": [
    "df_original = pd.read_csv(\"stonad_mottakere_kommune_2010_2022.csv\")"
   ]
  },
  {
   "cell_type": "code",
   "execution_count": 4,
   "metadata": {},
   "outputs": [
    {
     "data": {
      "text/html": [
       "<div>\n",
       "<style scoped>\n",
       "    .dataframe tbody tr th:only-of-type {\n",
       "        vertical-align: middle;\n",
       "    }\n",
       "\n",
       "    .dataframe tbody tr th {\n",
       "        vertical-align: top;\n",
       "    }\n",
       "\n",
       "    .dataframe thead th {\n",
       "        text-align: right;\n",
       "    }\n",
       "</style>\n",
       "<table border=\"1\" class=\"dataframe\">\n",
       "  <thead>\n",
       "    <tr style=\"text-align: right;\">\n",
       "      <th></th>\n",
       "      <th>aar</th>\n",
       "      <th>kommune_nr</th>\n",
       "      <th>kommune_navn</th>\n",
       "      <th>kjonn_kode</th>\n",
       "      <th>stonad</th>\n",
       "      <th>mottaker_antall</th>\n",
       "    </tr>\n",
       "  </thead>\n",
       "  <tbody>\n",
       "    <tr>\n",
       "      <th>0</th>\n",
       "      <td>2022</td>\n",
       "      <td>1101</td>\n",
       "      <td>Eigersund</td>\n",
       "      <td>K</td>\n",
       "      <td>Dagpenger</td>\n",
       "      <td>103.0</td>\n",
       "    </tr>\n",
       "    <tr>\n",
       "      <th>1</th>\n",
       "      <td>2022</td>\n",
       "      <td>1101</td>\n",
       "      <td>Eigersund</td>\n",
       "      <td>K</td>\n",
       "      <td>Arbeidsavklaringspenger</td>\n",
       "      <td>222.0</td>\n",
       "    </tr>\n",
       "    <tr>\n",
       "      <th>2</th>\n",
       "      <td>2022</td>\n",
       "      <td>1106</td>\n",
       "      <td>Haugesund</td>\n",
       "      <td>K</td>\n",
       "      <td>Dagpenger</td>\n",
       "      <td>133.0</td>\n",
       "    </tr>\n",
       "    <tr>\n",
       "      <th>3</th>\n",
       "      <td>2022</td>\n",
       "      <td>1106</td>\n",
       "      <td>Haugesund</td>\n",
       "      <td>K</td>\n",
       "      <td>Arbeidsavklaringspenger</td>\n",
       "      <td>618.0</td>\n",
       "    </tr>\n",
       "    <tr>\n",
       "      <th>4</th>\n",
       "      <td>2022</td>\n",
       "      <td>1108</td>\n",
       "      <td>Sandnes</td>\n",
       "      <td>K</td>\n",
       "      <td>Dagpenger</td>\n",
       "      <td>423.0</td>\n",
       "    </tr>\n",
       "    <tr>\n",
       "      <th>...</th>\n",
       "      <td>...</td>\n",
       "      <td>...</td>\n",
       "      <td>...</td>\n",
       "      <td>...</td>\n",
       "      <td>...</td>\n",
       "      <td>...</td>\n",
       "    </tr>\n",
       "    <tr>\n",
       "      <th>20027</th>\n",
       "      <td>2021</td>\n",
       "      <td>5443</td>\n",
       "      <td>Båtsfjord</td>\n",
       "      <td>M</td>\n",
       "      <td>Arbeidsavklaringspenger</td>\n",
       "      <td>24.0</td>\n",
       "    </tr>\n",
       "    <tr>\n",
       "      <th>20028</th>\n",
       "      <td>2020</td>\n",
       "      <td>5444</td>\n",
       "      <td>Sør-Varanger</td>\n",
       "      <td>M</td>\n",
       "      <td>Arbeidsavklaringspenger</td>\n",
       "      <td>110.0</td>\n",
       "    </tr>\n",
       "    <tr>\n",
       "      <th>20029</th>\n",
       "      <td>2021</td>\n",
       "      <td>5444</td>\n",
       "      <td>Sør-Varanger</td>\n",
       "      <td>M</td>\n",
       "      <td>Arbeidsavklaringspenger</td>\n",
       "      <td>116.0</td>\n",
       "    </tr>\n",
       "    <tr>\n",
       "      <th>20030</th>\n",
       "      <td>2020</td>\n",
       "      <td>5444</td>\n",
       "      <td>Sør-Varanger</td>\n",
       "      <td>K</td>\n",
       "      <td>Arbeidsavklaringspenger</td>\n",
       "      <td>155.0</td>\n",
       "    </tr>\n",
       "    <tr>\n",
       "      <th>20031</th>\n",
       "      <td>2021</td>\n",
       "      <td>5444</td>\n",
       "      <td>Sør-Varanger</td>\n",
       "      <td>K</td>\n",
       "      <td>Arbeidsavklaringspenger</td>\n",
       "      <td>148.0</td>\n",
       "    </tr>\n",
       "  </tbody>\n",
       "</table>\n",
       "<p>20032 rows × 6 columns</p>\n",
       "</div>"
      ],
      "text/plain": [
       "        aar  kommune_nr  kommune_navn kjonn_kode                   stonad  \\\n",
       "0      2022        1101     Eigersund          K                Dagpenger   \n",
       "1      2022        1101     Eigersund          K  Arbeidsavklaringspenger   \n",
       "2      2022        1106     Haugesund          K                Dagpenger   \n",
       "3      2022        1106     Haugesund          K  Arbeidsavklaringspenger   \n",
       "4      2022        1108       Sandnes          K                Dagpenger   \n",
       "...     ...         ...           ...        ...                      ...   \n",
       "20027  2021        5443     Båtsfjord          M  Arbeidsavklaringspenger   \n",
       "20028  2020        5444  Sør-Varanger          M  Arbeidsavklaringspenger   \n",
       "20029  2021        5444  Sør-Varanger          M  Arbeidsavklaringspenger   \n",
       "20030  2020        5444  Sør-Varanger          K  Arbeidsavklaringspenger   \n",
       "20031  2021        5444  Sør-Varanger          K  Arbeidsavklaringspenger   \n",
       "\n",
       "       mottaker_antall  \n",
       "0                103.0  \n",
       "1                222.0  \n",
       "2                133.0  \n",
       "3                618.0  \n",
       "4                423.0  \n",
       "...                ...  \n",
       "20027             24.0  \n",
       "20028            110.0  \n",
       "20029            116.0  \n",
       "20030            155.0  \n",
       "20031            148.0  \n",
       "\n",
       "[20032 rows x 6 columns]"
      ]
     },
     "execution_count": 4,
     "metadata": {},
     "output_type": "execute_result"
    }
   ],
   "source": [
    "df_original"
   ]
  },
  {
   "cell_type": "code",
   "execution_count": 5,
   "metadata": {},
   "outputs": [],
   "source": [
    "df = df_original"
   ]
  },
  {
   "attachments": {},
   "cell_type": "markdown",
   "metadata": {},
   "source": [
    "# Rask oversikt"
   ]
  },
  {
   "cell_type": "code",
   "execution_count": 6,
   "metadata": {},
   "outputs": [
    {
     "name": "stdout",
     "output_type": "stream",
     "text": [
      "Maximum values for numerical columns:\n",
      "aar                2022.0\n",
      "kommune_nr         5444.0\n",
      "mottaker_antall    2277.0\n",
      "dtype: float64\n",
      "\n",
      "Minimum values for numerical columns:\n",
      "aar                2010.0\n",
      "kommune_nr          101.0\n",
      "mottaker_antall       5.0\n",
      "dtype: float64\n",
      "\n",
      "Mean values for numerical columns:\n",
      "aar                2015.754543\n",
      "kommune_nr         1699.657997\n",
      "mottaker_antall     108.596615\n",
      "dtype: float64\n"
     ]
    }
   ],
   "source": [
    "numerical_columns = df.select_dtypes(include=[float, int])\n",
    "max_values = numerical_columns.max()\n",
    "min_values = numerical_columns.min()\n",
    "mean_values = numerical_columns.mean()\n",
    "\n",
    "print(\"Maximum values for numerical columns:\")\n",
    "print(max_values)\n",
    "\n",
    "print(\"\\nMinimum values for numerical columns:\")\n",
    "print(min_values)\n",
    "\n",
    "print(\"\\nMean values for numerical columns:\")\n",
    "print(mean_values)"
   ]
  },
  {
   "cell_type": "code",
   "execution_count": 7,
   "metadata": {},
   "outputs": [
    {
     "name": "stdout",
     "output_type": "stream",
     "text": [
      "\n",
      "Number of unique values for non-numerical columns:\n",
      "kommune_navn    450\n",
      "kjonn_kode        4\n",
      "stonad            2\n",
      "dtype: int64\n"
     ]
    }
   ],
   "source": [
    "non_numerical_columns = df.select_dtypes(exclude=[float, int])\n",
    "unique_values_counts = non_numerical_columns.nunique()\n",
    "\n",
    "print(\"\\nNumber of unique values for non-numerical columns:\")\n",
    "print(unique_values_counts)"
   ]
  },
  {
   "cell_type": "code",
   "execution_count": 8,
   "metadata": {},
   "outputs": [
    {
     "data": {
      "text/plain": [
       "array(['K', 'Kvinne', 'M', 'Mann'], dtype=object)"
      ]
     },
     "execution_count": 8,
     "metadata": {},
     "output_type": "execute_result"
    }
   ],
   "source": [
    "df['kjonn_kode'].unique()"
   ]
  },
  {
   "cell_type": "code",
   "execution_count": 9,
   "metadata": {},
   "outputs": [
    {
     "data": {
      "text/plain": [
       "aar                0\n",
       "kommune_nr         0\n",
       "kommune_navn       0\n",
       "kjonn_kode         0\n",
       "stonad             0\n",
       "mottaker_antall    4\n",
       "dtype: int64"
      ]
     },
     "execution_count": 9,
     "metadata": {},
     "output_type": "execute_result"
    }
   ],
   "source": [
    "df.isna().sum()"
   ]
  },
  {
   "cell_type": "code",
   "execution_count": 10,
   "metadata": {},
   "outputs": [
    {
     "data": {
      "text/html": [
       "<div>\n",
       "<style scoped>\n",
       "    .dataframe tbody tr th:only-of-type {\n",
       "        vertical-align: middle;\n",
       "    }\n",
       "\n",
       "    .dataframe tbody tr th {\n",
       "        vertical-align: top;\n",
       "    }\n",
       "\n",
       "    .dataframe thead th {\n",
       "        text-align: right;\n",
       "    }\n",
       "</style>\n",
       "<table border=\"1\" class=\"dataframe\">\n",
       "  <thead>\n",
       "    <tr style=\"text-align: right;\">\n",
       "      <th></th>\n",
       "      <th>aar</th>\n",
       "      <th>kommune_nr</th>\n",
       "      <th>kommune_navn</th>\n",
       "      <th>kjonn_kode</th>\n",
       "      <th>stonad</th>\n",
       "      <th>mottaker_antall</th>\n",
       "    </tr>\n",
       "  </thead>\n",
       "  <tbody>\n",
       "    <tr>\n",
       "      <th>1315</th>\n",
       "      <td>2015</td>\n",
       "      <td>101</td>\n",
       "      <td>Halden</td>\n",
       "      <td>M</td>\n",
       "      <td>Dagpenger</td>\n",
       "      <td>NaN</td>\n",
       "    </tr>\n",
       "    <tr>\n",
       "      <th>1324</th>\n",
       "      <td>2015</td>\n",
       "      <td>101</td>\n",
       "      <td>Halden</td>\n",
       "      <td>K</td>\n",
       "      <td>Dagpenger</td>\n",
       "      <td>NaN</td>\n",
       "    </tr>\n",
       "    <tr>\n",
       "      <th>10312</th>\n",
       "      <td>2015</td>\n",
       "      <td>101</td>\n",
       "      <td>Halden</td>\n",
       "      <td>K</td>\n",
       "      <td>Arbeidsavklaringspenger</td>\n",
       "      <td>NaN</td>\n",
       "    </tr>\n",
       "    <tr>\n",
       "      <th>10313</th>\n",
       "      <td>2015</td>\n",
       "      <td>101</td>\n",
       "      <td>Halden</td>\n",
       "      <td>M</td>\n",
       "      <td>Arbeidsavklaringspenger</td>\n",
       "      <td>NaN</td>\n",
       "    </tr>\n",
       "  </tbody>\n",
       "</table>\n",
       "</div>"
      ],
      "text/plain": [
       "        aar  kommune_nr kommune_navn kjonn_kode                   stonad  \\\n",
       "1315   2015         101       Halden          M                Dagpenger   \n",
       "1324   2015         101       Halden          K                Dagpenger   \n",
       "10312  2015         101       Halden          K  Arbeidsavklaringspenger   \n",
       "10313  2015         101       Halden          M  Arbeidsavklaringspenger   \n",
       "\n",
       "       mottaker_antall  \n",
       "1315               NaN  \n",
       "1324               NaN  \n",
       "10312              NaN  \n",
       "10313              NaN  "
      ]
     },
     "execution_count": 10,
     "metadata": {},
     "output_type": "execute_result"
    }
   ],
   "source": [
    "df[df.isna().any(axis=1)]"
   ]
  },
  {
   "cell_type": "code",
   "execution_count": 11,
   "metadata": {},
   "outputs": [],
   "source": [
    "df = df.dropna()"
   ]
  },
  {
   "attachments": {},
   "cell_type": "markdown",
   "metadata": {},
   "source": [
    "# Fiks kjønn\n",
    "Velger å summere verdiene"
   ]
  },
  {
   "cell_type": "code",
   "execution_count": 12,
   "metadata": {},
   "outputs": [
    {
     "name": "stderr",
     "output_type": "stream",
     "text": [
      "/tmp/ipykernel_641/1533305532.py:1: SettingWithCopyWarning: \n",
      "A value is trying to be set on a copy of a slice from a DataFrame.\n",
      "Try using .loc[row_indexer,col_indexer] = value instead\n",
      "\n",
      "See the caveats in the documentation: https://pandas.pydata.org/pandas-docs/stable/user_guide/indexing.html#returning-a-view-versus-a-copy\n",
      "  df[\"kjonn_kode\"] = df[\"kjonn_kode\"].replace(to_replace={\"Kvinne\": \"K\", \"Mann\": \"M\"})\n"
     ]
    }
   ],
   "source": [
    "df[\"kjonn_kode\"] = df[\"kjonn_kode\"].replace(to_replace={\"Kvinne\": \"K\", \"Mann\": \"M\"})"
   ]
  },
  {
   "cell_type": "code",
   "execution_count": 279,
   "metadata": {},
   "outputs": [
    {
     "name": "stdout",
     "output_type": "stream",
     "text": [
      "\n",
      "Number of unique values for non-numerical columns:\n",
      "kommune_navn    450\n",
      "kjonn_kode        2\n",
      "stonad            2\n",
      "dtype: int64\n"
     ]
    }
   ],
   "source": [
    "non_numerical_columns = df.select_dtypes(exclude=[float, int])\n",
    "unique_values_counts = non_numerical_columns.nunique()\n",
    "\n",
    "print(\"\\nNumber of unique values for non-numerical columns:\")\n",
    "print(unique_values_counts)"
   ]
  },
  {
   "attachments": {},
   "cell_type": "markdown",
   "metadata": {},
   "source": [
    "# Stønad over tid"
   ]
  },
  {
   "cell_type": "code",
   "execution_count": 280,
   "metadata": {},
   "outputs": [],
   "source": [
    "df_tid = df.pivot_table(index=\"aar\", columns=\"stonad\", values=\"mottaker_antall\", aggfunc=\"sum\")\n",
    "\n",
    "df_tid.reset_index(inplace=True)\n",
    "df_tid[\"Total Stonad\"] = df_tid.iloc[:, 1:].sum(axis=1)\n",
    "df_tid.set_index(\"aar\", inplace=True)"
   ]
  },
  {
   "cell_type": "code",
   "execution_count": 281,
   "metadata": {},
   "outputs": [
    {
     "data": {
      "text/plain": [
       "(0.0, 200000.0)"
      ]
     },
     "execution_count": 281,
     "metadata": {},
     "output_type": "execute_result"
    },
    {
     "data": {
      "image/png": "[encoded data removed]",
      "text/plain": [
       "<Figure size 720x432 with 1 Axes>"
      ]
     },
     "metadata": {
      "needs_background": "light"
     },
     "output_type": "display_data"
    }
   ],
   "source": [
    "df_tid.plot(kind=\"line\", marker=\"o\", figsize=(10, 6))\n",
    "plt.ylim(0,200000)"
   ]
  },
  {
   "attachments": {},
   "cell_type": "markdown",
   "metadata": {},
   "source": [
    "# Stønadsfordeling"
   ]
  },
  {
   "cell_type": "code",
   "execution_count": 282,
   "metadata": {},
   "outputs": [
    {
     "data": {
      "text/html": [
       "<div>\n",
       "<style scoped>\n",
       "    .dataframe tbody tr th:only-of-type {\n",
       "        vertical-align: middle;\n",
       "    }\n",
       "\n",
       "    .dataframe tbody tr th {\n",
       "        vertical-align: top;\n",
       "    }\n",
       "\n",
       "    .dataframe thead th {\n",
       "        text-align: right;\n",
       "    }\n",
       "</style>\n",
       "<table border=\"1\" class=\"dataframe\">\n",
       "  <thead>\n",
       "    <tr style=\"text-align: right;\">\n",
       "      <th></th>\n",
       "      <th>kommune_navn</th>\n",
       "      <th>stonad</th>\n",
       "      <th>mottaker_antall</th>\n",
       "    </tr>\n",
       "  </thead>\n",
       "  <tbody>\n",
       "    <tr>\n",
       "      <th>58</th>\n",
       "      <td>Bergen</td>\n",
       "      <td>Dagpenger</td>\n",
       "      <td>14.666667</td>\n",
       "    </tr>\n",
       "  </tbody>\n",
       "</table>\n",
       "</div>"
      ],
      "text/plain": [
       "   kommune_navn     stonad  mottaker_antall\n",
       "58       Bergen  Dagpenger        14.666667"
      ]
     },
     "execution_count": 282,
     "metadata": {},
     "output_type": "execute_result"
    }
   ],
   "source": [
    "test = df.groupby([\"kommune_navn\", \"stonad\"])[\"mottaker_antall\"].mean().reset_index()\n",
    "test[test[\"kommune_navn\"] == \"Bergen\"]"
   ]
  },
  {
   "cell_type": "code",
   "execution_count": 283,
   "metadata": {},
   "outputs": [
    {
     "data": {
      "text/html": [
       "<div>\n",
       "<style scoped>\n",
       "    .dataframe tbody tr th:only-of-type {\n",
       "        vertical-align: middle;\n",
       "    }\n",
       "\n",
       "    .dataframe tbody tr th {\n",
       "        vertical-align: top;\n",
       "    }\n",
       "\n",
       "    .dataframe thead th {\n",
       "        text-align: right;\n",
       "    }\n",
       "</style>\n",
       "<table border=\"1\" class=\"dataframe\">\n",
       "  <thead>\n",
       "    <tr style=\"text-align: right;\">\n",
       "      <th></th>\n",
       "      <th>kommune_navn</th>\n",
       "      <th>Arbeidsavklaringspenger</th>\n",
       "      <th>Dagpenger</th>\n",
       "      <th>Totalt</th>\n",
       "      <th>Dagpenger_%</th>\n",
       "    </tr>\n",
       "  </thead>\n",
       "  <tbody>\n",
       "    <tr>\n",
       "      <th>0</th>\n",
       "      <td>Aarborte - Hattfjelldal</td>\n",
       "      <td>17.384615</td>\n",
       "      <td>7.857143</td>\n",
       "      <td>25.241758</td>\n",
       "      <td>31.127558</td>\n",
       "    </tr>\n",
       "    <tr>\n",
       "      <th>1</th>\n",
       "      <td>Agdenes</td>\n",
       "      <td>21.750000</td>\n",
       "      <td>12.466667</td>\n",
       "      <td>34.216667</td>\n",
       "      <td>36.434486</td>\n",
       "    </tr>\n",
       "    <tr>\n",
       "      <th>2</th>\n",
       "      <td>Alstahaug</td>\n",
       "      <td>89.615385</td>\n",
       "      <td>47.269231</td>\n",
       "      <td>136.884615</td>\n",
       "      <td>34.532172</td>\n",
       "    </tr>\n",
       "    <tr>\n",
       "      <th>3</th>\n",
       "      <td>Alta</td>\n",
       "      <td>393.692308</td>\n",
       "      <td>127.653846</td>\n",
       "      <td>521.346154</td>\n",
       "      <td>24.485430</td>\n",
       "    </tr>\n",
       "    <tr>\n",
       "      <th>4</th>\n",
       "      <td>Alvdal</td>\n",
       "      <td>23.769231</td>\n",
       "      <td>8.470588</td>\n",
       "      <td>32.239819</td>\n",
       "      <td>26.273684</td>\n",
       "    </tr>\n",
       "    <tr>\n",
       "      <th>...</th>\n",
       "      <td>...</td>\n",
       "      <td>...</td>\n",
       "      <td>...</td>\n",
       "      <td>...</td>\n",
       "      <td>...</td>\n",
       "    </tr>\n",
       "    <tr>\n",
       "      <th>445</th>\n",
       "      <td>Østre Toten</td>\n",
       "      <td>277.961538</td>\n",
       "      <td>72.307692</td>\n",
       "      <td>350.269231</td>\n",
       "      <td>20.643461</td>\n",
       "    </tr>\n",
       "    <tr>\n",
       "      <th>446</th>\n",
       "      <td>Øvre Eiker</td>\n",
       "      <td>305.500000</td>\n",
       "      <td>131.692308</td>\n",
       "      <td>437.192308</td>\n",
       "      <td>30.122284</td>\n",
       "    </tr>\n",
       "    <tr>\n",
       "      <th>447</th>\n",
       "      <td>Øyer</td>\n",
       "      <td>64.038462</td>\n",
       "      <td>30.961538</td>\n",
       "      <td>95.000000</td>\n",
       "      <td>32.591093</td>\n",
       "    </tr>\n",
       "    <tr>\n",
       "      <th>448</th>\n",
       "      <td>Øygarden</td>\n",
       "      <td>185.423077</td>\n",
       "      <td>109.461538</td>\n",
       "      <td>294.884615</td>\n",
       "      <td>37.120125</td>\n",
       "    </tr>\n",
       "    <tr>\n",
       "      <th>449</th>\n",
       "      <td>Øystre Slidre</td>\n",
       "      <td>33.500000</td>\n",
       "      <td>16.120000</td>\n",
       "      <td>49.620000</td>\n",
       "      <td>32.486900</td>\n",
       "    </tr>\n",
       "  </tbody>\n",
       "</table>\n",
       "<p>446 rows × 5 columns</p>\n",
       "</div>"
      ],
      "text/plain": [
       "                kommune_navn  Arbeidsavklaringspenger   Dagpenger      Totalt  \\\n",
       "0    Aarborte - Hattfjelldal                17.384615    7.857143   25.241758   \n",
       "1                    Agdenes                21.750000   12.466667   34.216667   \n",
       "2                  Alstahaug                89.615385   47.269231  136.884615   \n",
       "3                       Alta               393.692308  127.653846  521.346154   \n",
       "4                     Alvdal                23.769231    8.470588   32.239819   \n",
       "..                       ...                      ...         ...         ...   \n",
       "445              Østre Toten               277.961538   72.307692  350.269231   \n",
       "446               Øvre Eiker               305.500000  131.692308  437.192308   \n",
       "447                     Øyer                64.038462   30.961538   95.000000   \n",
       "448                 Øygarden               185.423077  109.461538  294.884615   \n",
       "449            Øystre Slidre                33.500000   16.120000   49.620000   \n",
       "\n",
       "     Dagpenger_%  \n",
       "0      31.127558  \n",
       "1      36.434486  \n",
       "2      34.532172  \n",
       "3      24.485430  \n",
       "4      26.273684  \n",
       "..           ...  \n",
       "445    20.643461  \n",
       "446    30.122284  \n",
       "447    32.591093  \n",
       "448    37.120125  \n",
       "449    32.486900  \n",
       "\n",
       "[446 rows x 5 columns]"
      ]
     },
     "execution_count": 283,
     "metadata": {},
     "output_type": "execute_result"
    }
   ],
   "source": [
    "test = df.groupby([\"kommune_navn\", \"stonad\"])[\"mottaker_antall\"].mean().reset_index()\n",
    "test = test.pivot(index=\"kommune_navn\", columns=\"stonad\", values=\"mottaker_antall\")\n",
    "test.reset_index(inplace=True)\n",
    "test.columns = [\"kommune_navn\", \"Arbeidsavklaringspenger\", \"Dagpenger\"]\n",
    "test[\"Totalt\"] = test[\"Arbeidsavklaringspenger\"]+test[\"Dagpenger\"]\n",
    "test[\"Dagpenger_%\"] = (test[\"Dagpenger\"]/test[\"Totalt\"])*100\n",
    "test = test.dropna()\n",
    "test"
   ]
  },
  {
   "cell_type": "code",
   "execution_count": 284,
   "metadata": {},
   "outputs": [
    {
     "data": {
      "text/plain": [
       "<matplotlib.collections.PathCollection at 0x7f8e07000e50>"
      ]
     },
     "execution_count": 284,
     "metadata": {},
     "output_type": "execute_result"
    },
    {
     "data": {
      "image/png": "[encoded data removed]",
      "text/plain": [
       "<Figure size 432x288 with 1 Axes>"
      ]
     },
     "metadata": {
      "needs_background": "light"
     },
     "output_type": "display_data"
    }
   ],
   "source": [
    "plt.scatter(test[\"Totalt\"], test[\"Dagpenger_%\"])"
   ]
  },
  {
   "cell_type": "code",
   "execution_count": 285,
   "metadata": {},
   "outputs": [
    {
     "data": {
      "text/plain": [
       "<matplotlib.collections.PathCollection at 0x7f8e06fd8790>"
      ]
     },
     "execution_count": 285,
     "metadata": {},
     "output_type": "execute_result"
    },
    {
     "data": {
      "image/png": "[encoded data removed]",
      "text/plain": [
       "<Figure size 432x288 with 1 Axes>"
      ]
     },
     "metadata": {
      "needs_background": "light"
     },
     "output_type": "display_data"
    }
   ],
   "source": [
    "plt.scatter(np.log(test[\"Totalt\"]), test[\"Dagpenger_%\"])"
   ]
  },
  {
   "cell_type": "code",
   "execution_count": 286,
   "metadata": {},
   "outputs": [],
   "source": [
    "x_train, x_test, y_train, y_test = train_test_split(test[\"Totalt\"], test[\"Dagpenger_%\"], test_size=0.33, random_state=42)\n",
    "x_train = x_train.values.reshape(-1, 1)\n",
    "x_test = x_test.values.reshape(-1, 1)"
   ]
  },
  {
   "cell_type": "code",
   "execution_count": 297,
   "metadata": {},
   "outputs": [],
   "source": [
    "x_train, x_test, y_train, y_test = train_test_split(np.log(test[\"Totalt\"]), test[\"Dagpenger_%\"], test_size=0.33, random_state=42)\n",
    "x_train = x_train.values.reshape(-1, 1)\n",
    "x_test = x_test.values.reshape(-1, 1)"
   ]
  },
  {
   "attachments": {},
   "cell_type": "markdown",
   "metadata": {},
   "source": [
    "## Lineær"
   ]
  },
  {
   "cell_type": "code",
   "execution_count": 288,
   "metadata": {},
   "outputs": [],
   "source": [
    "reg = LinearRegression().fit(x_train, y_train)"
   ]
  },
  {
   "cell_type": "code",
   "execution_count": 289,
   "metadata": {},
   "outputs": [
    {
     "data": {
      "text/plain": [
       "(array([-1.64811981]), 40.67394051500981)"
      ]
     },
     "execution_count": 289,
     "metadata": {},
     "output_type": "execute_result"
    }
   ],
   "source": [
    "slope = reg.coef_\n",
    "intercept = reg.intercept_\n",
    "slope, intercept"
   ]
  },
  {
   "cell_type": "code",
   "execution_count": 290,
   "metadata": {},
   "outputs": [
    {
     "data": {
      "text/plain": [
       "0.10906024513510582"
      ]
     },
     "execution_count": 290,
     "metadata": {},
     "output_type": "execute_result"
    }
   ],
   "source": [
    "r2_score(y_test, reg.predict(x_test))"
   ]
  },
  {
   "cell_type": "code",
   "execution_count": 291,
   "metadata": {},
   "outputs": [
    {
     "data": {
      "text/plain": [
       "<matplotlib.collections.PathCollection at 0x7f8e06f6cf40>"
      ]
     },
     "execution_count": 291,
     "metadata": {},
     "output_type": "execute_result"
    },
    {
     "data": {
      "image/png": "[encoded data removed]",
      "text/plain": [
       "<Figure size 432x288 with 1 Axes>"
      ]
     },
     "metadata": {
      "needs_background": "light"
     },
     "output_type": "display_data"
    }
   ],
   "source": [
    "plt.plot(x_train, reg.predict(x_train), color=\"r\")\n",
    "plt.scatter(np.log(test[\"Totalt\"]), test[\"Dagpenger_%\"])"
   ]
  },
  {
   "cell_type": "code",
   "execution_count": 292,
   "metadata": {},
   "outputs": [
    {
     "data": {
      "text/plain": [
       "<matplotlib.collections.PathCollection at 0x7f8e06ee4910>"
      ]
     },
     "execution_count": 292,
     "metadata": {},
     "output_type": "execute_result"
    },
    {
     "data": {
      "image/png": "[encoded data removed]",
      "text/plain": [
       "<Figure size 432x288 with 1 Axes>"
      ]
     },
     "metadata": {
      "needs_background": "light"
     },
     "output_type": "display_data"
    }
   ],
   "source": [
    "x_vals = np.linspace(2,8).reshape(-1,1)\n",
    "plt.plot(np.exp(x_vals), reg.predict(x_vals), color=\"r\")\n",
    "plt.scatter(test[\"Totalt\"], test[\"Dagpenger_%\"])"
   ]
  },
  {
   "attachments": {},
   "cell_type": "markdown",
   "metadata": {},
   "source": [
    "## Polynomisk"
   ]
  },
  {
   "cell_type": "code",
   "execution_count": 302,
   "metadata": {},
   "outputs": [],
   "source": [
    "poly = PolynomialFeatures(degree=2, include_bias=True)\n",
    "x_train_trans = poly.fit_transform(x_train)\n",
    "x_test_trans = poly.transform(x_test)"
   ]
  },
  {
   "cell_type": "code",
   "execution_count": 303,
   "metadata": {},
   "outputs": [],
   "source": [
    "reg2 = LinearRegression().fit(x_train_trans, y_train)"
   ]
  },
  {
   "cell_type": "code",
   "execution_count": 304,
   "metadata": {},
   "outputs": [
    {
     "data": {
      "text/plain": [
       "(array([  0.        , -19.30564723,   1.79597851]), 81.4223225027848)"
      ]
     },
     "execution_count": 304,
     "metadata": {},
     "output_type": "execute_result"
    }
   ],
   "source": [
    "slope = reg2.coef_\n",
    "intercept = reg2.intercept_\n",
    "slope, intercept"
   ]
  },
  {
   "cell_type": "code",
   "execution_count": 305,
   "metadata": {},
   "outputs": [
    {
     "data": {
      "text/plain": [
       "0.22002831538223777"
      ]
     },
     "execution_count": 305,
     "metadata": {},
     "output_type": "execute_result"
    }
   ],
   "source": [
    "r2_score(y_test, reg2.predict(x_test_trans))"
   ]
  },
  {
   "cell_type": "code",
   "execution_count": 306,
   "metadata": {},
   "outputs": [
    {
     "data": {
      "text/plain": [
       "<matplotlib.collections.PathCollection at 0x7f8e06d93be0>"
      ]
     },
     "execution_count": 306,
     "metadata": {},
     "output_type": "execute_result"
    },
    {
     "data": {
      "image/png": "[encoded data removed]",
      "text/plain": [
       "<Figure size 432x288 with 1 Axes>"
      ]
     },
     "metadata": {
      "needs_background": "light"
     },
     "output_type": "display_data"
    }
   ],
   "source": [
    "x_vals = np.linspace(2,8).reshape(-1,1)\n",
    "x_vals_trans = poly.transform(x_vals)\n",
    "plt.plot(x_vals, reg2.predict(x_vals_trans), color=\"r\")\n",
    "plt.scatter(np.log(test[\"Totalt\"]), test[\"Dagpenger_%\"])"
   ]
  },
  {
   "attachments": {},
   "cell_type": "markdown",
   "metadata": {},
   "source": [
    "## Mer nøyaktig"
   ]
  },
  {
   "cell_type": "code",
   "execution_count": 312,
   "metadata": {},
   "outputs": [],
   "source": [
    "x_train_array = np.array(x_train)\n",
    "x_test_array = np.array(x_test)\n",
    "y_train_array = np.array(y_train)\n",
    "y_test_array = np.array(y_test)\n",
    "\n",
    "x_train_array = sm.add_constant(x_train_array)\n",
    "x_test_array = sm.add_constant(x_test_array)\n",
    "x_train_array = np.column_stack((x_train_array, x_train_array[:, 1] ** 2, x_train_array[:, 1] ** 3))\n",
    "x_test_array = np.column_stack((x_test_array, x_test_array[:, 1] ** 2, x_test_array[:, 1] ** 3))"
   ]
  },
  {
   "cell_type": "code",
   "execution_count": 314,
   "metadata": {},
   "outputs": [
    {
     "data": {
      "text/html": [
       "<table class=\"simpletable\">\n",
       "<caption>OLS Regression Results</caption>\n",
       "<tr>\n",
       "  <th>Dep. Variable:</th>            <td>y</td>        <th>  R-squared:         </th> <td>   0.069</td>\n",
       "</tr>\n",
       "<tr>\n",
       "  <th>Model:</th>                   <td>OLS</td>       <th>  Adj. R-squared:    </th> <td>   0.066</td>\n",
       "</tr>\n",
       "<tr>\n",
       "  <th>Method:</th>             <td>Least Squares</td>  <th>  F-statistic:       </th> <td>   21.85</td>\n",
       "</tr>\n",
       "<tr>\n",
       "  <th>Date:</th>             <td>Tue, 24 Oct 2023</td> <th>  Prob (F-statistic):</th> <td>4.48e-06</td>\n",
       "</tr>\n",
       "<tr>\n",
       "  <th>Time:</th>                 <td>22:34:45</td>     <th>  Log-Likelihood:    </th> <td> -1013.2</td>\n",
       "</tr>\n",
       "<tr>\n",
       "  <th>No. Observations:</th>      <td>   298</td>      <th>  AIC:               </th> <td>   2030.</td>\n",
       "</tr>\n",
       "<tr>\n",
       "  <th>Df Residuals:</th>          <td>   296</td>      <th>  BIC:               </th> <td>   2038.</td>\n",
       "</tr>\n",
       "<tr>\n",
       "  <th>Df Model:</th>              <td>     1</td>      <th>                     </th>     <td> </td>   \n",
       "</tr>\n",
       "<tr>\n",
       "  <th>Covariance Type:</th>      <td>nonrobust</td>    <th>                     </th>     <td> </td>   \n",
       "</tr>\n",
       "</table>\n",
       "<table class=\"simpletable\">\n",
       "<tr>\n",
       "    <td></td>       <th>coef</th>     <th>std err</th>      <th>t</th>      <th>P>|t|</th>  <th>[0.025</th>    <th>0.975]</th>  \n",
       "</tr>\n",
       "<tr>\n",
       "  <th>const</th> <td>   40.6739</td> <td>    1.708</td> <td>   23.808</td> <td> 0.000</td> <td>   37.312</td> <td>   44.036</td>\n",
       "</tr>\n",
       "<tr>\n",
       "  <th>x1</th>    <td>   -1.6481</td> <td>    0.353</td> <td>   -4.675</td> <td> 0.000</td> <td>   -2.342</td> <td>   -0.954</td>\n",
       "</tr>\n",
       "</table>\n",
       "<table class=\"simpletable\">\n",
       "<tr>\n",
       "  <th>Omnibus:</th>       <td>83.442</td> <th>  Durbin-Watson:     </th> <td>   1.973</td>\n",
       "</tr>\n",
       "<tr>\n",
       "  <th>Prob(Omnibus):</th> <td> 0.000</td> <th>  Jarque-Bera (JB):  </th> <td> 307.626</td>\n",
       "</tr>\n",
       "<tr>\n",
       "  <th>Skew:</th>          <td> 1.158</td> <th>  Prob(JB):          </th> <td>1.58e-67</td>\n",
       "</tr>\n",
       "<tr>\n",
       "  <th>Kurtosis:</th>      <td> 7.406</td> <th>  Cond. No.          </th> <td>    20.4</td>\n",
       "</tr>\n",
       "</table><br/><br/>Notes:<br/>[1] Standard Errors assume that the covariance matrix of the errors is correctly specified."
      ],
      "text/latex": [
       "\\begin{center}\n",
       "\\begin{tabular}{lclc}\n",
       "\\toprule\n",
       "\\textbf{Dep. Variable:}    &        y         & \\textbf{  R-squared:         } &     0.069   \\\\\n",
       "\\textbf{Model:}            &       OLS        & \\textbf{  Adj. R-squared:    } &     0.066   \\\\\n",
       "\\textbf{Method:}           &  Least Squares   & \\textbf{  F-statistic:       } &     21.85   \\\\\n",
       "\\textbf{Date:}             & Tue, 24 Oct 2023 & \\textbf{  Prob (F-statistic):} &  4.48e-06   \\\\\n",
       "\\textbf{Time:}             &     22:34:45     & \\textbf{  Log-Likelihood:    } &   -1013.2   \\\\\n",
       "\\textbf{No. Observations:} &         298      & \\textbf{  AIC:               } &     2030.   \\\\\n",
       "\\textbf{Df Residuals:}     &         296      & \\textbf{  BIC:               } &     2038.   \\\\\n",
       "\\textbf{Df Model:}         &           1      & \\textbf{                     } &             \\\\\n",
       "\\textbf{Covariance Type:}  &    nonrobust     & \\textbf{                     } &             \\\\\n",
       "\\bottomrule\n",
       "\\end{tabular}\n",
       "\\begin{tabular}{lcccccc}\n",
       "               & \\textbf{coef} & \\textbf{std err} & \\textbf{t} & \\textbf{P$> |$t$|$} & \\textbf{[0.025} & \\textbf{0.975]}  \\\\\n",
       "\\midrule\n",
       "\\textbf{const} &      40.6739  &        1.708     &    23.808  &         0.000        &       37.312    &       44.036     \\\\\n",
       "\\textbf{x1}    &      -1.6481  &        0.353     &    -4.675  &         0.000        &       -2.342    &       -0.954     \\\\\n",
       "\\bottomrule\n",
       "\\end{tabular}\n",
       "\\begin{tabular}{lclc}\n",
       "\\textbf{Omnibus:}       & 83.442 & \\textbf{  Durbin-Watson:     } &    1.973  \\\\\n",
       "\\textbf{Prob(Omnibus):} &  0.000 & \\textbf{  Jarque-Bera (JB):  } &  307.626  \\\\\n",
       "\\textbf{Skew:}          &  1.158 & \\textbf{  Prob(JB):          } & 1.58e-67  \\\\\n",
       "\\textbf{Kurtosis:}      &  7.406 & \\textbf{  Cond. No.          } &     20.4  \\\\\n",
       "\\bottomrule\n",
       "\\end{tabular}\n",
       "%\\caption{OLS Regression Results}\n",
       "\\end{center}\n",
       "\n",
       "Notes: \\newline\n",
       " [1] Standard Errors assume that the covariance matrix of the errors is correctly specified."
      ],
      "text/plain": [
       "<class 'statsmodels.iolib.summary.Summary'>\n",
       "\"\"\"\n",
       "                            OLS Regression Results                            \n",
       "==============================================================================\n",
       "Dep. Variable:                      y   R-squared:                       0.069\n",
       "Model:                            OLS   Adj. R-squared:                  0.066\n",
       "Method:                 Least Squares   F-statistic:                     21.85\n",
       "Date:                Tue, 24 Oct 2023   Prob (F-statistic):           4.48e-06\n",
       "Time:                        22:34:45   Log-Likelihood:                -1013.2\n",
       "No. Observations:                 298   AIC:                             2030.\n",
       "Df Residuals:                     296   BIC:                             2038.\n",
       "Df Model:                           1                                         \n",
       "Covariance Type:            nonrobust                                         \n",
       "==============================================================================\n",
       "                 coef    std err          t      P>|t|      [0.025      0.975]\n",
       "------------------------------------------------------------------------------\n",
       "const         40.6739      1.708     23.808      0.000      37.312      44.036\n",
       "x1            -1.6481      0.353     -4.675      0.000      -2.342      -0.954\n",
       "==============================================================================\n",
       "Omnibus:                       83.442   Durbin-Watson:                   1.973\n",
       "Prob(Omnibus):                  0.000   Jarque-Bera (JB):              307.626\n",
       "Skew:                           1.158   Prob(JB):                     1.58e-67\n",
       "Kurtosis:                       7.406   Cond. No.                         20.4\n",
       "==============================================================================\n",
       "\n",
       "Notes:\n",
       "[1] Standard Errors assume that the covariance matrix of the errors is correctly specified.\n",
       "\"\"\""
      ]
     },
     "execution_count": 314,
     "metadata": {},
     "output_type": "execute_result"
    }
   ],
   "source": [
    "model = sm.OLS(y_train_array, x_train_array[:,0:2])\n",
    "results = model.fit()\n",
    "results.summary()"
   ]
  },
  {
   "cell_type": "code",
   "execution_count": 316,
   "metadata": {},
   "outputs": [
    {
     "data": {
      "text/html": [
       "<table class=\"simpletable\">\n",
       "<caption>OLS Regression Results</caption>\n",
       "<tr>\n",
       "  <th>Dep. Variable:</th>            <td>y</td>        <th>  R-squared:         </th> <td>   0.217</td>\n",
       "</tr>\n",
       "<tr>\n",
       "  <th>Model:</th>                   <td>OLS</td>       <th>  Adj. R-squared:    </th> <td>   0.212</td>\n",
       "</tr>\n",
       "<tr>\n",
       "  <th>Method:</th>             <td>Least Squares</td>  <th>  F-statistic:       </th> <td>   40.98</td>\n",
       "</tr>\n",
       "<tr>\n",
       "  <th>Date:</th>             <td>Tue, 24 Oct 2023</td> <th>  Prob (F-statistic):</th> <td>1.98e-16</td>\n",
       "</tr>\n",
       "<tr>\n",
       "  <th>Time:</th>                 <td>22:35:15</td>     <th>  Log-Likelihood:    </th> <td> -987.27</td>\n",
       "</tr>\n",
       "<tr>\n",
       "  <th>No. Observations:</th>      <td>   298</td>      <th>  AIC:               </th> <td>   1981.</td>\n",
       "</tr>\n",
       "<tr>\n",
       "  <th>Df Residuals:</th>          <td>   295</td>      <th>  BIC:               </th> <td>   1992.</td>\n",
       "</tr>\n",
       "<tr>\n",
       "  <th>Df Model:</th>              <td>     2</td>      <th>                     </th>     <td> </td>   \n",
       "</tr>\n",
       "<tr>\n",
       "  <th>Covariance Type:</th>      <td>nonrobust</td>    <th>                     </th>     <td> </td>   \n",
       "</tr>\n",
       "</table>\n",
       "<table class=\"simpletable\">\n",
       "<tr>\n",
       "    <td></td>       <th>coef</th>     <th>std err</th>      <th>t</th>      <th>P>|t|</th>  <th>[0.025</th>    <th>0.975]</th>  \n",
       "</tr>\n",
       "<tr>\n",
       "  <th>const</th> <td>   81.4223</td> <td>    5.665</td> <td>   14.373</td> <td> 0.000</td> <td>   70.273</td> <td>   92.571</td>\n",
       "</tr>\n",
       "<tr>\n",
       "  <th>x1</th>    <td>  -19.3056</td> <td>    2.381</td> <td>   -8.108</td> <td> 0.000</td> <td>  -23.991</td> <td>  -14.620</td>\n",
       "</tr>\n",
       "<tr>\n",
       "  <th>x2</th>    <td>    1.7960</td> <td>    0.240</td> <td>    7.486</td> <td> 0.000</td> <td>    1.324</td> <td>    2.268</td>\n",
       "</tr>\n",
       "</table>\n",
       "<table class=\"simpletable\">\n",
       "<tr>\n",
       "  <th>Omnibus:</th>       <td>87.536</td> <th>  Durbin-Watson:     </th> <td>   1.921</td>\n",
       "</tr>\n",
       "<tr>\n",
       "  <th>Prob(Omnibus):</th> <td> 0.000</td> <th>  Jarque-Bera (JB):  </th> <td> 411.340</td>\n",
       "</tr>\n",
       "<tr>\n",
       "  <th>Skew:</th>          <td> 1.131</td> <th>  Prob(JB):          </th> <td>4.77e-90</td>\n",
       "</tr>\n",
       "<tr>\n",
       "  <th>Kurtosis:</th>      <td> 8.293</td> <th>  Cond. No.          </th> <td>    424.</td>\n",
       "</tr>\n",
       "</table><br/><br/>Notes:<br/>[1] Standard Errors assume that the covariance matrix of the errors is correctly specified."
      ],
      "text/latex": [
       "\\begin{center}\n",
       "\\begin{tabular}{lclc}\n",
       "\\toprule\n",
       "\\textbf{Dep. Variable:}    &        y         & \\textbf{  R-squared:         } &     0.217   \\\\\n",
       "\\textbf{Model:}            &       OLS        & \\textbf{  Adj. R-squared:    } &     0.212   \\\\\n",
       "\\textbf{Method:}           &  Least Squares   & \\textbf{  F-statistic:       } &     40.98   \\\\\n",
       "\\textbf{Date:}             & Tue, 24 Oct 2023 & \\textbf{  Prob (F-statistic):} &  1.98e-16   \\\\\n",
       "\\textbf{Time:}             &     22:35:15     & \\textbf{  Log-Likelihood:    } &   -987.27   \\\\\n",
       "\\textbf{No. Observations:} &         298      & \\textbf{  AIC:               } &     1981.   \\\\\n",
       "\\textbf{Df Residuals:}     &         295      & \\textbf{  BIC:               } &     1992.   \\\\\n",
       "\\textbf{Df Model:}         &           2      & \\textbf{                     } &             \\\\\n",
       "\\textbf{Covariance Type:}  &    nonrobust     & \\textbf{                     } &             \\\\\n",
       "\\bottomrule\n",
       "\\end{tabular}\n",
       "\\begin{tabular}{lcccccc}\n",
       "               & \\textbf{coef} & \\textbf{std err} & \\textbf{t} & \\textbf{P$> |$t$|$} & \\textbf{[0.025} & \\textbf{0.975]}  \\\\\n",
       "\\midrule\n",
       "\\textbf{const} &      81.4223  &        5.665     &    14.373  &         0.000        &       70.273    &       92.571     \\\\\n",
       "\\textbf{x1}    &     -19.3056  &        2.381     &    -8.108  &         0.000        &      -23.991    &      -14.620     \\\\\n",
       "\\textbf{x2}    &       1.7960  &        0.240     &     7.486  &         0.000        &        1.324    &        2.268     \\\\\n",
       "\\bottomrule\n",
       "\\end{tabular}\n",
       "\\begin{tabular}{lclc}\n",
       "\\textbf{Omnibus:}       & 87.536 & \\textbf{  Durbin-Watson:     } &    1.921  \\\\\n",
       "\\textbf{Prob(Omnibus):} &  0.000 & \\textbf{  Jarque-Bera (JB):  } &  411.340  \\\\\n",
       "\\textbf{Skew:}          &  1.131 & \\textbf{  Prob(JB):          } & 4.77e-90  \\\\\n",
       "\\textbf{Kurtosis:}      &  8.293 & \\textbf{  Cond. No.          } &     424.  \\\\\n",
       "\\bottomrule\n",
       "\\end{tabular}\n",
       "%\\caption{OLS Regression Results}\n",
       "\\end{center}\n",
       "\n",
       "Notes: \\newline\n",
       " [1] Standard Errors assume that the covariance matrix of the errors is correctly specified."
      ],
      "text/plain": [
       "<class 'statsmodels.iolib.summary.Summary'>\n",
       "\"\"\"\n",
       "                            OLS Regression Results                            \n",
       "==============================================================================\n",
       "Dep. Variable:                      y   R-squared:                       0.217\n",
       "Model:                            OLS   Adj. R-squared:                  0.212\n",
       "Method:                 Least Squares   F-statistic:                     40.98\n",
       "Date:                Tue, 24 Oct 2023   Prob (F-statistic):           1.98e-16\n",
       "Time:                        22:35:15   Log-Likelihood:                -987.27\n",
       "No. Observations:                 298   AIC:                             1981.\n",
       "Df Residuals:                     295   BIC:                             1992.\n",
       "Df Model:                           2                                         \n",
       "Covariance Type:            nonrobust                                         \n",
       "==============================================================================\n",
       "                 coef    std err          t      P>|t|      [0.025      0.975]\n",
       "------------------------------------------------------------------------------\n",
       "const         81.4223      5.665     14.373      0.000      70.273      92.571\n",
       "x1           -19.3056      2.381     -8.108      0.000     -23.991     -14.620\n",
       "x2             1.7960      0.240      7.486      0.000       1.324       2.268\n",
       "==============================================================================\n",
       "Omnibus:                       87.536   Durbin-Watson:                   1.921\n",
       "Prob(Omnibus):                  0.000   Jarque-Bera (JB):              411.340\n",
       "Skew:                           1.131   Prob(JB):                     4.77e-90\n",
       "Kurtosis:                       8.293   Cond. No.                         424.\n",
       "==============================================================================\n",
       "\n",
       "Notes:\n",
       "[1] Standard Errors assume that the covariance matrix of the errors is correctly specified.\n",
       "\"\"\""
      ]
     },
     "execution_count": 316,
     "metadata": {},
     "output_type": "execute_result"
    }
   ],
   "source": [
    "model = sm.OLS(y_train_array, x_train_array[:,0:3])\n",
    "results = model.fit()\n",
    "results.summary()"
   ]
  },
  {
   "cell_type": "code",
   "execution_count": 341,
   "metadata": {},
   "outputs": [
    {
     "data": {
      "text/plain": [
       "<AxesSubplot:xlabel='X', ylabel='Y'>"
      ]
     },
     "execution_count": 341,
     "metadata": {},
     "output_type": "execute_result"
    },
    {
     "data": {
      "image/png": "[encoded data removed]",
      "text/plain": [
       "<Figure size 432x288 with 1 Axes>"
      ]
     },
     "metadata": {
      "needs_background": "light"
     },
     "output_type": "display_data"
    }
   ],
   "source": [
    "regplot_data = pd.DataFrame({\"Y\":y_train, \"X\":x_train.flatten()})\n",
    "sns.regplot(x=\"X\", y=\"Y\", data = regplot_data, order=2, line_kws=dict(color=\"r\"))"
   ]
  },
  {
   "cell_type": "code",
   "execution_count": 19,
   "metadata": {},
   "outputs": [
    {
     "data": {
      "text/html": [
       "<div>\n",
       "<style scoped>\n",
       "    .dataframe tbody tr th:only-of-type {\n",
       "        vertical-align: middle;\n",
       "    }\n",
       "\n",
       "    .dataframe tbody tr th {\n",
       "        vertical-align: top;\n",
       "    }\n",
       "\n",
       "    .dataframe thead th {\n",
       "        text-align: right;\n",
       "    }\n",
       "</style>\n",
       "<table border=\"1\" class=\"dataframe\">\n",
       "  <thead>\n",
       "    <tr style=\"text-align: right;\">\n",
       "      <th></th>\n",
       "      <th>aar</th>\n",
       "      <th>kommune_nr</th>\n",
       "      <th>kommune_navn</th>\n",
       "      <th>kjonn_kode</th>\n",
       "      <th>stonad</th>\n",
       "      <th>mottaker_antall</th>\n",
       "    </tr>\n",
       "  </thead>\n",
       "  <tbody>\n",
       "    <tr>\n",
       "      <th>2092</th>\n",
       "      <td>2020</td>\n",
       "      <td>301</td>\n",
       "      <td>Oslo</td>\n",
       "      <td>K</td>\n",
       "      <td>Dagpenger</td>\n",
       "      <td>7.0</td>\n",
       "    </tr>\n",
       "    <tr>\n",
       "      <th>4509</th>\n",
       "      <td>2020</td>\n",
       "      <td>1101</td>\n",
       "      <td>Eigersund</td>\n",
       "      <td>M</td>\n",
       "      <td>Dagpenger</td>\n",
       "      <td>87.0</td>\n",
       "    </tr>\n",
       "    <tr>\n",
       "      <th>4522</th>\n",
       "      <td>2020</td>\n",
       "      <td>1101</td>\n",
       "      <td>Eigersund</td>\n",
       "      <td>K</td>\n",
       "      <td>Dagpenger</td>\n",
       "      <td>120.0</td>\n",
       "    </tr>\n",
       "    <tr>\n",
       "      <th>4559</th>\n",
       "      <td>2020</td>\n",
       "      <td>1106</td>\n",
       "      <td>Haugesund</td>\n",
       "      <td>K</td>\n",
       "      <td>Dagpenger</td>\n",
       "      <td>294.0</td>\n",
       "    </tr>\n",
       "    <tr>\n",
       "      <th>4570</th>\n",
       "      <td>2020</td>\n",
       "      <td>1106</td>\n",
       "      <td>Haugesund</td>\n",
       "      <td>M</td>\n",
       "      <td>Dagpenger</td>\n",
       "      <td>335.0</td>\n",
       "    </tr>\n",
       "    <tr>\n",
       "      <th>...</th>\n",
       "      <td>...</td>\n",
       "      <td>...</td>\n",
       "      <td>...</td>\n",
       "      <td>...</td>\n",
       "      <td>...</td>\n",
       "      <td>...</td>\n",
       "    </tr>\n",
       "    <tr>\n",
       "      <th>20022</th>\n",
       "      <td>2020</td>\n",
       "      <td>5442</td>\n",
       "      <td>Unjárga - Nesseby</td>\n",
       "      <td>M</td>\n",
       "      <td>Arbeidsavklaringspenger</td>\n",
       "      <td>6.0</td>\n",
       "    </tr>\n",
       "    <tr>\n",
       "      <th>20024</th>\n",
       "      <td>2020</td>\n",
       "      <td>5443</td>\n",
       "      <td>Båtsfjord</td>\n",
       "      <td>M</td>\n",
       "      <td>Arbeidsavklaringspenger</td>\n",
       "      <td>19.0</td>\n",
       "    </tr>\n",
       "    <tr>\n",
       "      <th>20026</th>\n",
       "      <td>2020</td>\n",
       "      <td>5443</td>\n",
       "      <td>Båtsfjord</td>\n",
       "      <td>K</td>\n",
       "      <td>Arbeidsavklaringspenger</td>\n",
       "      <td>25.0</td>\n",
       "    </tr>\n",
       "    <tr>\n",
       "      <th>20028</th>\n",
       "      <td>2020</td>\n",
       "      <td>5444</td>\n",
       "      <td>Sør-Varanger</td>\n",
       "      <td>M</td>\n",
       "      <td>Arbeidsavklaringspenger</td>\n",
       "      <td>110.0</td>\n",
       "    </tr>\n",
       "    <tr>\n",
       "      <th>20030</th>\n",
       "      <td>2020</td>\n",
       "      <td>5444</td>\n",
       "      <td>Sør-Varanger</td>\n",
       "      <td>K</td>\n",
       "      <td>Arbeidsavklaringspenger</td>\n",
       "      <td>155.0</td>\n",
       "    </tr>\n",
       "  </tbody>\n",
       "</table>\n",
       "<p>1349 rows × 6 columns</p>\n",
       "</div>"
      ],
      "text/plain": [
       "        aar  kommune_nr       kommune_navn kjonn_kode  \\\n",
       "2092   2020         301               Oslo          K   \n",
       "4509   2020        1101          Eigersund          M   \n",
       "4522   2020        1101          Eigersund          K   \n",
       "4559   2020        1106          Haugesund          K   \n",
       "4570   2020        1106          Haugesund          M   \n",
       "...     ...         ...                ...        ...   \n",
       "20022  2020        5442  Unjárga - Nesseby          M   \n",
       "20024  2020        5443          Båtsfjord          M   \n",
       "20026  2020        5443          Båtsfjord          K   \n",
       "20028  2020        5444       Sør-Varanger          M   \n",
       "20030  2020        5444       Sør-Varanger          K   \n",
       "\n",
       "                        stonad  mottaker_antall  \n",
       "2092                 Dagpenger              7.0  \n",
       "4509                 Dagpenger             87.0  \n",
       "4522                 Dagpenger            120.0  \n",
       "4559                 Dagpenger            294.0  \n",
       "4570                 Dagpenger            335.0  \n",
       "...                        ...              ...  \n",
       "20022  Arbeidsavklaringspenger              6.0  \n",
       "20024  Arbeidsavklaringspenger             19.0  \n",
       "20026  Arbeidsavklaringspenger             25.0  \n",
       "20028  Arbeidsavklaringspenger            110.0  \n",
       "20030  Arbeidsavklaringspenger            155.0  \n",
       "\n",
       "[1349 rows x 6 columns]"
      ]
     },
     "execution_count": 19,
     "metadata": {},
     "output_type": "execute_result"
    }
   ],
   "source": [
    "df_1 = df[df[\"aar\"] == 2020]\n",
    "df_1"
   ]
  },
  {
   "cell_type": "code",
   "execution_count": 21,
   "metadata": {},
   "outputs": [
    {
     "data": {
      "text/html": [
       "<div>\n",
       "<style scoped>\n",
       "    .dataframe tbody tr th:only-of-type {\n",
       "        vertical-align: middle;\n",
       "    }\n",
       "\n",
       "    .dataframe tbody tr th {\n",
       "        vertical-align: top;\n",
       "    }\n",
       "\n",
       "    .dataframe thead th {\n",
       "        text-align: right;\n",
       "    }\n",
       "</style>\n",
       "<table border=\"1\" class=\"dataframe\">\n",
       "  <thead>\n",
       "    <tr style=\"text-align: right;\">\n",
       "      <th></th>\n",
       "      <th>aar</th>\n",
       "      <th>kommune_nr</th>\n",
       "      <th>kommune_navn</th>\n",
       "      <th>kjonn_kode</th>\n",
       "      <th>stonad</th>\n",
       "      <th>mottaker_antall</th>\n",
       "    </tr>\n",
       "  </thead>\n",
       "  <tbody>\n",
       "    <tr>\n",
       "      <th>2092</th>\n",
       "      <td>2020</td>\n",
       "      <td>301</td>\n",
       "      <td>Oslo</td>\n",
       "      <td>K</td>\n",
       "      <td>Dagpenger</td>\n",
       "      <td>7.0</td>\n",
       "    </tr>\n",
       "    <tr>\n",
       "      <th>4509</th>\n",
       "      <td>2020</td>\n",
       "      <td>1101</td>\n",
       "      <td>Eigersund</td>\n",
       "      <td>M</td>\n",
       "      <td>Dagpenger</td>\n",
       "      <td>87.0</td>\n",
       "    </tr>\n",
       "    <tr>\n",
       "      <th>4522</th>\n",
       "      <td>2020</td>\n",
       "      <td>1101</td>\n",
       "      <td>Eigersund</td>\n",
       "      <td>K</td>\n",
       "      <td>Dagpenger</td>\n",
       "      <td>120.0</td>\n",
       "    </tr>\n",
       "    <tr>\n",
       "      <th>4559</th>\n",
       "      <td>2020</td>\n",
       "      <td>1106</td>\n",
       "      <td>Haugesund</td>\n",
       "      <td>K</td>\n",
       "      <td>Dagpenger</td>\n",
       "      <td>294.0</td>\n",
       "    </tr>\n",
       "    <tr>\n",
       "      <th>4570</th>\n",
       "      <td>2020</td>\n",
       "      <td>1106</td>\n",
       "      <td>Haugesund</td>\n",
       "      <td>M</td>\n",
       "      <td>Dagpenger</td>\n",
       "      <td>335.0</td>\n",
       "    </tr>\n",
       "    <tr>\n",
       "      <th>...</th>\n",
       "      <td>...</td>\n",
       "      <td>...</td>\n",
       "      <td>...</td>\n",
       "      <td>...</td>\n",
       "      <td>...</td>\n",
       "      <td>...</td>\n",
       "    </tr>\n",
       "    <tr>\n",
       "      <th>10286</th>\n",
       "      <td>2020</td>\n",
       "      <td>5442</td>\n",
       "      <td>Unjárga - Nesseby</td>\n",
       "      <td>M</td>\n",
       "      <td>Dagpenger</td>\n",
       "      <td>7.0</td>\n",
       "    </tr>\n",
       "    <tr>\n",
       "      <th>10289</th>\n",
       "      <td>2020</td>\n",
       "      <td>5443</td>\n",
       "      <td>Båtsfjord</td>\n",
       "      <td>K</td>\n",
       "      <td>Dagpenger</td>\n",
       "      <td>69.0</td>\n",
       "    </tr>\n",
       "    <tr>\n",
       "      <th>10290</th>\n",
       "      <td>2020</td>\n",
       "      <td>5443</td>\n",
       "      <td>Båtsfjord</td>\n",
       "      <td>M</td>\n",
       "      <td>Dagpenger</td>\n",
       "      <td>41.0</td>\n",
       "    </tr>\n",
       "    <tr>\n",
       "      <th>10292</th>\n",
       "      <td>2020</td>\n",
       "      <td>5444</td>\n",
       "      <td>Sør-Varanger</td>\n",
       "      <td>K</td>\n",
       "      <td>Dagpenger</td>\n",
       "      <td>77.0</td>\n",
       "    </tr>\n",
       "    <tr>\n",
       "      <th>10293</th>\n",
       "      <td>2020</td>\n",
       "      <td>5444</td>\n",
       "      <td>Sør-Varanger</td>\n",
       "      <td>M</td>\n",
       "      <td>Dagpenger</td>\n",
       "      <td>190.0</td>\n",
       "    </tr>\n",
       "  </tbody>\n",
       "</table>\n",
       "<p>664 rows × 6 columns</p>\n",
       "</div>"
      ],
      "text/plain": [
       "        aar  kommune_nr       kommune_navn kjonn_kode     stonad  \\\n",
       "2092   2020         301               Oslo          K  Dagpenger   \n",
       "4509   2020        1101          Eigersund          M  Dagpenger   \n",
       "4522   2020        1101          Eigersund          K  Dagpenger   \n",
       "4559   2020        1106          Haugesund          K  Dagpenger   \n",
       "4570   2020        1106          Haugesund          M  Dagpenger   \n",
       "...     ...         ...                ...        ...        ...   \n",
       "10286  2020        5442  Unjárga - Nesseby          M  Dagpenger   \n",
       "10289  2020        5443          Båtsfjord          K  Dagpenger   \n",
       "10290  2020        5443          Båtsfjord          M  Dagpenger   \n",
       "10292  2020        5444       Sør-Varanger          K  Dagpenger   \n",
       "10293  2020        5444       Sør-Varanger          M  Dagpenger   \n",
       "\n",
       "       mottaker_antall  \n",
       "2092               7.0  \n",
       "4509              87.0  \n",
       "4522             120.0  \n",
       "4559             294.0  \n",
       "4570             335.0  \n",
       "...                ...  \n",
       "10286              7.0  \n",
       "10289             69.0  \n",
       "10290             41.0  \n",
       "10292             77.0  \n",
       "10293            190.0  \n",
       "\n",
       "[664 rows x 6 columns]"
      ]
     },
     "execution_count": 21,
     "metadata": {},
     "output_type": "execute_result"
    }
   ],
   "source": [
    "df_2 = df_1[df_1[\"stonad\"] == \"Dagpenger\"]\n",
    "df_2"
   ]
  },
  {
   "cell_type": "code",
   "execution_count": 26,
   "metadata": {},
   "outputs": [
    {
     "data": {
      "text/html": [
       "<div>\n",
       "<style scoped>\n",
       "    .dataframe tbody tr th:only-of-type {\n",
       "        vertical-align: middle;\n",
       "    }\n",
       "\n",
       "    .dataframe tbody tr th {\n",
       "        vertical-align: top;\n",
       "    }\n",
       "\n",
       "    .dataframe thead th {\n",
       "        text-align: right;\n",
       "    }\n",
       "</style>\n",
       "<table border=\"1\" class=\"dataframe\">\n",
       "  <thead>\n",
       "    <tr style=\"text-align: right;\">\n",
       "      <th></th>\n",
       "      <th>aar</th>\n",
       "      <th>kommune_nr</th>\n",
       "      <th>mottaker_antall</th>\n",
       "    </tr>\n",
       "    <tr>\n",
       "      <th>kommune_navn</th>\n",
       "      <th></th>\n",
       "      <th></th>\n",
       "      <th></th>\n",
       "    </tr>\n",
       "  </thead>\n",
       "  <tbody>\n",
       "    <tr>\n",
       "      <th>Modalen</th>\n",
       "      <td>2020</td>\n",
       "      <td>4629</td>\n",
       "      <td>5.0</td>\n",
       "    </tr>\n",
       "    <tr>\n",
       "      <th>Træna</th>\n",
       "      <td>2020</td>\n",
       "      <td>1835</td>\n",
       "      <td>5.0</td>\n",
       "    </tr>\n",
       "    <tr>\n",
       "      <th>Namsskogan</th>\n",
       "      <td>2020</td>\n",
       "      <td>5044</td>\n",
       "      <td>6.0</td>\n",
       "    </tr>\n",
       "    <tr>\n",
       "      <th>Leka</th>\n",
       "      <td>2020</td>\n",
       "      <td>5052</td>\n",
       "      <td>6.0</td>\n",
       "    </tr>\n",
       "    <tr>\n",
       "      <th>Solund</th>\n",
       "      <td>2020</td>\n",
       "      <td>4636</td>\n",
       "      <td>6.0</td>\n",
       "    </tr>\n",
       "    <tr>\n",
       "      <th>...</th>\n",
       "      <td>...</td>\n",
       "      <td>...</td>\n",
       "      <td>...</td>\n",
       "    </tr>\n",
       "    <tr>\n",
       "      <th>Fredrikstad</th>\n",
       "      <td>4040</td>\n",
       "      <td>6008</td>\n",
       "      <td>1567.0</td>\n",
       "    </tr>\n",
       "    <tr>\n",
       "      <th>Lillestrøm</th>\n",
       "      <td>4040</td>\n",
       "      <td>6060</td>\n",
       "      <td>1742.0</td>\n",
       "    </tr>\n",
       "    <tr>\n",
       "      <th>Bærum</th>\n",
       "      <td>4040</td>\n",
       "      <td>6048</td>\n",
       "      <td>1966.0</td>\n",
       "    </tr>\n",
       "    <tr>\n",
       "      <th>Kristiansand</th>\n",
       "      <td>4040</td>\n",
       "      <td>8408</td>\n",
       "      <td>2014.0</td>\n",
       "    </tr>\n",
       "    <tr>\n",
       "      <th>Drammen</th>\n",
       "      <td>4040</td>\n",
       "      <td>6010</td>\n",
       "      <td>2064.0</td>\n",
       "    </tr>\n",
       "  </tbody>\n",
       "</table>\n",
       "<p>342 rows × 3 columns</p>\n",
       "</div>"
      ],
      "text/plain": [
       "               aar  kommune_nr  mottaker_antall\n",
       "kommune_navn                                   \n",
       "Modalen       2020        4629              5.0\n",
       "Træna         2020        1835              5.0\n",
       "Namsskogan    2020        5044              6.0\n",
       "Leka          2020        5052              6.0\n",
       "Solund        2020        4636              6.0\n",
       "...            ...         ...              ...\n",
       "Fredrikstad   4040        6008           1567.0\n",
       "Lillestrøm    4040        6060           1742.0\n",
       "Bærum         4040        6048           1966.0\n",
       "Kristiansand  4040        8408           2014.0\n",
       "Drammen       4040        6010           2064.0\n",
       "\n",
       "[342 rows x 3 columns]"
      ]
     },
     "execution_count": 26,
     "metadata": {},
     "output_type": "execute_result"
    }
   ],
   "source": [
    "df_2.groupby(\"kommune_navn\").sum().sort_values(\"mottaker_antall\")"
   ]
  }
 ],
 "metadata": {
  "kernelspec": {
   "display_name": "Python 3",
   "language": "python",
   "name": "python3"
  },
  "language_info": {
   "codemirror_mode": {
    "name": "ipython",
    "version": 3
   },
   "file_extension": ".py",
   "mimetype": "text/x-python",
   "name": "python",
   "nbconvert_exporter": "python",
   "pygments_lexer": "ipython3",
   "version": "3.9.13"
  },
  "orig_nbformat": 4
 },
 "nbformat": 4,
 "nbformat_minor": 2
}
